{
 "cells": [
  {
   "cell_type": "code",
   "execution_count": null,
   "id": "8c7c6ee0-7ff1-44d1-b81f-046e1c193e12",
   "metadata": {},
   "outputs": [],
   "source": [
    "\n",
    "#In the notebook make a markdown cell and answer the following 3 questions\n",
    "#1) name one purpose for github; 2) describe what is version control in your own words and how it could help you in your\n",
    "#project; 3) explain how in a group project (which we are not doing) github could help manage collaboration."
   ]
  },
  {
   "cell_type": "markdown",
   "id": "5c5bbc95-3c5d-4488-9e78-80e220d57905",
   "metadata": {},
   "source": [
    "1. Github can we used for sharing and collabortation.\n",
    "A strong feature Github presented while setting up an account is the ability to colloborate with others using the platform. Since we are working on a project that requires peer review, we can use Github to we able to easily share and read each others code. If we just used Juypter we would have to submit new notebooks with each change, and send it back and forth.\n",
    "\n",
    "2. Version control is a way of keeping track of your changes, even when working with others. I think it will be helpful in my project for peer review because the reviewers can directly alter my files, and I can not only tell the exact changes they made but I can recover any version of the file. Because each person can have there own version of the file to edit, multiple reviewers can work on editing it simulaneously.\n",
    "\n",
    "3. If this project was in a group, using Github would allow multiple people to work on and edit the code at the same time. Using version control can keep track of changes, it also uses branches, which lets you focus on different tasks in the same project, and it uses pull request which let's someone compare the differences in your version with theres, before deciding to add it in. "
   ]
  }
 ],
 "metadata": {
  "kernelspec": {
   "display_name": "Python 3 (ipykernel)",
   "language": "python",
   "name": "python3"
  },
  "language_info": {
   "codemirror_mode": {
    "name": "ipython",
    "version": 3
   },
   "file_extension": ".py",
   "mimetype": "text/x-python",
   "name": "python",
   "nbconvert_exporter": "python",
   "pygments_lexer": "ipython3",
   "version": "3.12.5"
  }
 },
 "nbformat": 4,
 "nbformat_minor": 5
}
